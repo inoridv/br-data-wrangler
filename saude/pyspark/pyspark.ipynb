{
 "cells": [
  {
   "cell_type": "code",
   "execution_count": 1,
   "metadata": {},
   "outputs": [],
   "source": [
    "from pyspark.sql import SparkSession\n",
    "from pyspark.sql.types import *\n",
    "import pyspark.sql.functions as sqlfuncs\n",
    "from itertools import chain\n",
    "\n",
    "# shuffle partition, sexo boleano, cache, lazy\n",
    "# misturar em 1 arquivo"
   ]
  },
  {
   "cell_type": "code",
   "execution_count": 2,
   "metadata": {},
   "outputs": [
    {
     "data": {
      "text/html": [
       "<table border='1'>\n",
       "<tr><th>#ID_TEMPO_COMPETENCIA</th><th>CD_OPERADORA</th><th>DT_INCLUSAO</th><th>CD_BENE_MOTV_INCLUSAO</th><th>IND_PORTABILIDADE</th><th>ID_MOTIVO_MOVIMENTO</th><th>LG_BENEFICIARIO_ATIVO</th><th>DT_NASCIMENTO</th><th>TP_SEXO</th><th>CD_PLANO_RPS</th><th>CD_PLANO_SCPA</th><th>NR_PLANO_PORTABILIDADE</th><th>DT_PRIMEIRA_CONTRATACAO</th><th>DT_CONTRATACAO</th><th>ID_BENE_TIPO_DEPENDENTE</th><th>LG_COBERTURA_PARCIAL</th><th>LG_ITEM_EXCLUIDO_COBERTURA</th><th>CD_MUNICIPIO</th><th>SG_UF</th><th>LG_RESIDE_EXTERIOR</th><th>DT_REATIVACAO</th><th>DT_ULTIMA_REATIVACAO</th><th>DT_ULTIMA_MUDA_CONTRATUAL</th><th>DT_CANCELAMENTO</th><th>DT_ULTIMO_CANCELAMENTO</th><th>CD_BENE_MOTIV_CANCELAMENTO</th><th>DT_CARGA</th></tr>\n",
       "<tr><td>202101</td><td>358169</td><td>16/12/2007</td><td>11.0</td><td>NAO</td><td>31.0</td><td>1</td><td>13/06/2006</td><td>F</td><td>4.63663115E8</td><td>null</td><td>null</td><td>28/06/2006</td><td>14/07/2020</td><td>1.0</td><td>0.0</td><td>0.0</td><td>120040</td><td>AC</td><td>0</td><td>null</td><td>null</td><td>12/08/2020</td><td>null</td><td>null</td><td>null</td><td>05/03/2021</td></tr>\n",
       "<tr><td>202101</td><td>334189</td><td>14/09/2005</td><td>null</td><td>NAO</td><td>74.0</td><td>1</td><td>08/07/1957</td><td>M</td><td>null</td><td>null</td><td>null</td><td>01/04/2004</td><td>01/04/2004</td><td>1.0</td><td>0.0</td><td>0.0</td><td>120040</td><td>AC</td><td>0</td><td>null</td><td>null</td><td>null</td><td>null</td><td>null</td><td>null</td><td>05/03/2021</td></tr>\n",
       "<tr><td>202101</td><td>316849</td><td>17/01/2000</td><td>null</td><td>NAO</td><td>74.0</td><td>1</td><td>12/05/1953</td><td>F</td><td>null</td><td>null</td><td>null</td><td>14/10/1977</td><td>14/10/1977</td><td>null</td><td>null</td><td>null</td><td>120040</td><td>AC</td><td>0</td><td>null</td><td>null</td><td>null</td><td>null</td><td>null</td><td>null</td><td>05/03/2021</td></tr>\n",
       "<tr><td>202101</td><td>334189</td><td>11/03/2008</td><td>11.0</td><td>NAO</td><td>null</td><td>1</td><td>03/06/1956</td><td>M</td><td>null</td><td>null</td><td>null</td><td>01/02/2008</td><td>01/02/2008</td><td>1.0</td><td>0.0</td><td>0.0</td><td>120040</td><td>AC</td><td>0</td><td>null</td><td>null</td><td>null</td><td>null</td><td>null</td><td>null</td><td>05/03/2021</td></tr>\n",
       "<tr><td>202101</td><td>334189</td><td>14/09/2005</td><td>null</td><td>NAO</td><td>74.0</td><td>1</td><td>16/12/1956</td><td>M</td><td>null</td><td>null</td><td>null</td><td>01/04/2004</td><td>01/04/2004</td><td>1.0</td><td>0.0</td><td>0.0</td><td>120040</td><td>AC</td><td>0</td><td>null</td><td>null</td><td>null</td><td>null</td><td>null</td><td>null</td><td>05/03/2021</td></tr>\n",
       "<tr><td>202101</td><td>403997</td><td>08/09/2010</td><td>11.0</td><td>NAO</td><td>74.0</td><td>1</td><td>17/07/1995</td><td>M</td><td>4.28204993E8</td><td>null</td><td>null</td><td>13/08/2010</td><td>13/08/2010</td><td>10.0</td><td>0.0</td><td>0.0</td><td>120040</td><td>AC</td><td>0</td><td>null</td><td>null</td><td>null</td><td>null</td><td>null</td><td>null</td><td>05/03/2021</td></tr>\n",
       "<tr><td>202101</td><td>403997</td><td>07/08/2010</td><td>11.0</td><td>NAO</td><td>21.0</td><td>1</td><td>06/11/1973</td><td>F</td><td>4.28204993E8</td><td>null</td><td>null</td><td>27/11/2000</td><td>27/11/2000</td><td>3.0</td><td>0.0</td><td>0.0</td><td>120040</td><td>AC</td><td>0</td><td>null</td><td>null</td><td>null</td><td>null</td><td>null</td><td>null</td><td>05/03/2021</td></tr>\n",
       "<tr><td>202101</td><td>403997</td><td>15/11/2007</td><td>11.0</td><td>NAO</td><td>74.0</td><td>1</td><td>28/12/1973</td><td>F</td><td>4.28204993E8</td><td>null</td><td>null</td><td>04/10/2007</td><td>04/10/2007</td><td>4.0</td><td>0.0</td><td>0.0</td><td>120040</td><td>AC</td><td>0</td><td>null</td><td>null</td><td>null</td><td>null</td><td>null</td><td>null</td><td>05/03/2021</td></tr>\n",
       "<tr><td>202101</td><td>403997</td><td>08/05/2002</td><td>null</td><td>NAO</td><td>22.0</td><td>1</td><td>15/09/1976</td><td>F</td><td>4.28204993E8</td><td>null</td><td>null</td><td>25/10/2000</td><td>25/10/2000</td><td>1.0</td><td>0.0</td><td>0.0</td><td>120040</td><td>AC</td><td>0</td><td>null</td><td>null</td><td>null</td><td>null</td><td>null</td><td>null</td><td>05/03/2021</td></tr>\n",
       "<tr><td>202101</td><td>403997</td><td>15/08/2007</td><td>11.0</td><td>NAO</td><td>74.0</td><td>1</td><td>07/08/1995</td><td>M</td><td>4.28204993E8</td><td>null</td><td>null</td><td>29/06/2005</td><td>29/06/2005</td><td>4.0</td><td>0.0</td><td>0.0</td><td>120040</td><td>AC</td><td>0</td><td>null</td><td>null</td><td>null</td><td>null</td><td>null</td><td>null</td><td>05/03/2021</td></tr>\n",
       "<tr><td>202101</td><td>403997</td><td>31/05/2005</td><td>11.0</td><td>NAO</td><td>74.0</td><td>1</td><td>26/09/1976</td><td>F</td><td>4.28204993E8</td><td>null</td><td>null</td><td>29/04/2005</td><td>29/04/2005</td><td>10.0</td><td>0.0</td><td>0.0</td><td>120040</td><td>AC</td><td>0</td><td>null</td><td>null</td><td>null</td><td>null</td><td>null</td><td>null</td><td>05/03/2021</td></tr>\n",
       "<tr><td>202101</td><td>403997</td><td>04/06/2011</td><td>11.0</td><td>NAO</td><td>74.0</td><td>1</td><td>18/12/1989</td><td>M</td><td>4.28204993E8</td><td>null</td><td>null</td><td>12/05/2011</td><td>12/05/2011</td><td>10.0</td><td>0.0</td><td>0.0</td><td>120040</td><td>AC</td><td>0</td><td>null</td><td>null</td><td>null</td><td>null</td><td>null</td><td>null</td><td>05/03/2021</td></tr>\n",
       "<tr><td>202101</td><td>403997</td><td>15/08/2007</td><td>11.0</td><td>NAO</td><td>74.0</td><td>1</td><td>15/01/1998</td><td>M</td><td>4.63076109E8</td><td>null</td><td>null</td><td>12/07/2005</td><td>12/07/2005</td><td>4.0</td><td>0.0</td><td>0.0</td><td>120040</td><td>AC</td><td>0</td><td>null</td><td>null</td><td>null</td><td>null</td><td>null</td><td>null</td><td>05/03/2021</td></tr>\n",
       "<tr><td>202101</td><td>403997</td><td>15/08/2007</td><td>11.0</td><td>NAO</td><td>21.0</td><td>1</td><td>30/07/1994</td><td>M</td><td>4.28204993E8</td><td>null</td><td>null</td><td>30/12/2004</td><td>30/12/2004</td><td>4.0</td><td>0.0</td><td>0.0</td><td>120040</td><td>AC</td><td>0</td><td>null</td><td>null</td><td>null</td><td>null</td><td>null</td><td>null</td><td>05/03/2021</td></tr>\n",
       "<tr><td>202101</td><td>334189</td><td>14/09/2005</td><td>null</td><td>NAO</td><td>74.0</td><td>1</td><td>19/02/1998</td><td>M</td><td>null</td><td>null</td><td>null</td><td>01/04/2004</td><td>01/04/2004</td><td>1.0</td><td>0.0</td><td>0.0</td><td>120040</td><td>AC</td><td>0</td><td>null</td><td>null</td><td>null</td><td>null</td><td>null</td><td>null</td><td>05/03/2021</td></tr>\n",
       "<tr><td>202101</td><td>403997</td><td>15/08/2007</td><td>11.0</td><td>NAO</td><td>74.0</td><td>1</td><td>26/06/1993</td><td>M</td><td>4.28204993E8</td><td>null</td><td>null</td><td>26/06/2001</td><td>26/06/2001</td><td>4.0</td><td>0.0</td><td>0.0</td><td>120040</td><td>AC</td><td>0</td><td>null</td><td>null</td><td>null</td><td>null</td><td>null</td><td>null</td><td>05/03/2021</td></tr>\n",
       "<tr><td>202101</td><td>403997</td><td>07/08/2010</td><td>11.0</td><td>NAO</td><td>74.0</td><td>1</td><td>24/04/1985</td><td>M</td><td>4.28204993E8</td><td>null</td><td>null</td><td>12/07/2010</td><td>12/07/2010</td><td>3.0</td><td>0.0</td><td>0.0</td><td>120040</td><td>AC</td><td>0</td><td>null</td><td>null</td><td>null</td><td>null</td><td>null</td><td>null</td><td>05/03/2021</td></tr>\n",
       "<tr><td>202101</td><td>403997</td><td>08/04/2009</td><td>11.0</td><td>NAO</td><td>74.0</td><td>1</td><td>20/05/1996</td><td>F</td><td>4.28204993E8</td><td>null</td><td>null</td><td>10/03/2009</td><td>10/03/2009</td><td>10.0</td><td>0.0</td><td>0.0</td><td>120040</td><td>AC</td><td>0</td><td>null</td><td>null</td><td>null</td><td>null</td><td>null</td><td>null</td><td>05/03/2021</td></tr>\n",
       "<tr><td>202101</td><td>403997</td><td>08/07/2010</td><td>11.0</td><td>NAO</td><td>74.0</td><td>1</td><td>10/07/1990</td><td>F</td><td>4.28204993E8</td><td>null</td><td>null</td><td>30/05/2000</td><td>30/05/2000</td><td>4.0</td><td>0.0</td><td>0.0</td><td>120040</td><td>AC</td><td>0</td><td>null</td><td>null</td><td>null</td><td>null</td><td>null</td><td>null</td><td>05/03/2021</td></tr>\n",
       "<tr><td>202101</td><td>403997</td><td>10/04/2010</td><td>11.0</td><td>NAO</td><td>74.0</td><td>1</td><td>27/07/1995</td><td>M</td><td>4.28204993E8</td><td>null</td><td>null</td><td>01/03/2010</td><td>01/03/2010</td><td>4.0</td><td>0.0</td><td>0.0</td><td>120040</td><td>AC</td><td>0</td><td>null</td><td>null</td><td>null</td><td>null</td><td>null</td><td>null</td><td>05/03/2021</td></tr>\n",
       "</table>\n",
       "only showing top 20 rows\n"
      ],
      "text/plain": [
       "+---------------------+------------+-----------+---------------------+-----------------+-------------------+---------------------+-------------+-------+------------+-------------+----------------------+-----------------------+--------------+-----------------------+--------------------+--------------------------+------------+-----+------------------+-------------+--------------------+-------------------------+---------------+----------------------+--------------------------+----------+\n",
       "|#ID_TEMPO_COMPETENCIA|CD_OPERADORA|DT_INCLUSAO|CD_BENE_MOTV_INCLUSAO|IND_PORTABILIDADE|ID_MOTIVO_MOVIMENTO|LG_BENEFICIARIO_ATIVO|DT_NASCIMENTO|TP_SEXO|CD_PLANO_RPS|CD_PLANO_SCPA|NR_PLANO_PORTABILIDADE|DT_PRIMEIRA_CONTRATACAO|DT_CONTRATACAO|ID_BENE_TIPO_DEPENDENTE|LG_COBERTURA_PARCIAL|LG_ITEM_EXCLUIDO_COBERTURA|CD_MUNICIPIO|SG_UF|LG_RESIDE_EXTERIOR|DT_REATIVACAO|DT_ULTIMA_REATIVACAO|DT_ULTIMA_MUDA_CONTRATUAL|DT_CANCELAMENTO|DT_ULTIMO_CANCELAMENTO|CD_BENE_MOTIV_CANCELAMENTO|  DT_CARGA|\n",
       "+---------------------+------------+-----------+---------------------+-----------------+-------------------+---------------------+-------------+-------+------------+-------------+----------------------+-----------------------+--------------+-----------------------+--------------------+--------------------------+------------+-----+------------------+-------------+--------------------+-------------------------+---------------+----------------------+--------------------------+----------+\n",
       "|               202101|      358169| 16/12/2007|                 11.0|              NAO|               31.0|                    1|   13/06/2006|      F|4.63663115E8|         null|                  null|             28/06/2006|    14/07/2020|                    1.0|                 0.0|                       0.0|      120040|   AC|                 0|         null|                null|               12/08/2020|           null|                  null|                      null|05/03/2021|\n",
       "|               202101|      334189| 14/09/2005|                 null|              NAO|               74.0|                    1|   08/07/1957|      M|        null|         null|                  null|             01/04/2004|    01/04/2004|                    1.0|                 0.0|                       0.0|      120040|   AC|                 0|         null|                null|                     null|           null|                  null|                      null|05/03/2021|\n",
       "|               202101|      316849| 17/01/2000|                 null|              NAO|               74.0|                    1|   12/05/1953|      F|        null|         null|                  null|             14/10/1977|    14/10/1977|                   null|                null|                      null|      120040|   AC|                 0|         null|                null|                     null|           null|                  null|                      null|05/03/2021|\n",
       "|               202101|      334189| 11/03/2008|                 11.0|              NAO|               null|                    1|   03/06/1956|      M|        null|         null|                  null|             01/02/2008|    01/02/2008|                    1.0|                 0.0|                       0.0|      120040|   AC|                 0|         null|                null|                     null|           null|                  null|                      null|05/03/2021|\n",
       "|               202101|      334189| 14/09/2005|                 null|              NAO|               74.0|                    1|   16/12/1956|      M|        null|         null|                  null|             01/04/2004|    01/04/2004|                    1.0|                 0.0|                       0.0|      120040|   AC|                 0|         null|                null|                     null|           null|                  null|                      null|05/03/2021|\n",
       "|               202101|      403997| 08/09/2010|                 11.0|              NAO|               74.0|                    1|   17/07/1995|      M|4.28204993E8|         null|                  null|             13/08/2010|    13/08/2010|                   10.0|                 0.0|                       0.0|      120040|   AC|                 0|         null|                null|                     null|           null|                  null|                      null|05/03/2021|\n",
       "|               202101|      403997| 07/08/2010|                 11.0|              NAO|               21.0|                    1|   06/11/1973|      F|4.28204993E8|         null|                  null|             27/11/2000|    27/11/2000|                    3.0|                 0.0|                       0.0|      120040|   AC|                 0|         null|                null|                     null|           null|                  null|                      null|05/03/2021|\n",
       "|               202101|      403997| 15/11/2007|                 11.0|              NAO|               74.0|                    1|   28/12/1973|      F|4.28204993E8|         null|                  null|             04/10/2007|    04/10/2007|                    4.0|                 0.0|                       0.0|      120040|   AC|                 0|         null|                null|                     null|           null|                  null|                      null|05/03/2021|\n",
       "|               202101|      403997| 08/05/2002|                 null|              NAO|               22.0|                    1|   15/09/1976|      F|4.28204993E8|         null|                  null|             25/10/2000|    25/10/2000|                    1.0|                 0.0|                       0.0|      120040|   AC|                 0|         null|                null|                     null|           null|                  null|                      null|05/03/2021|\n",
       "|               202101|      403997| 15/08/2007|                 11.0|              NAO|               74.0|                    1|   07/08/1995|      M|4.28204993E8|         null|                  null|             29/06/2005|    29/06/2005|                    4.0|                 0.0|                       0.0|      120040|   AC|                 0|         null|                null|                     null|           null|                  null|                      null|05/03/2021|\n",
       "|               202101|      403997| 31/05/2005|                 11.0|              NAO|               74.0|                    1|   26/09/1976|      F|4.28204993E8|         null|                  null|             29/04/2005|    29/04/2005|                   10.0|                 0.0|                       0.0|      120040|   AC|                 0|         null|                null|                     null|           null|                  null|                      null|05/03/2021|\n",
       "|               202101|      403997| 04/06/2011|                 11.0|              NAO|               74.0|                    1|   18/12/1989|      M|4.28204993E8|         null|                  null|             12/05/2011|    12/05/2011|                   10.0|                 0.0|                       0.0|      120040|   AC|                 0|         null|                null|                     null|           null|                  null|                      null|05/03/2021|\n",
       "|               202101|      403997| 15/08/2007|                 11.0|              NAO|               74.0|                    1|   15/01/1998|      M|4.63076109E8|         null|                  null|             12/07/2005|    12/07/2005|                    4.0|                 0.0|                       0.0|      120040|   AC|                 0|         null|                null|                     null|           null|                  null|                      null|05/03/2021|\n",
       "|               202101|      403997| 15/08/2007|                 11.0|              NAO|               21.0|                    1|   30/07/1994|      M|4.28204993E8|         null|                  null|             30/12/2004|    30/12/2004|                    4.0|                 0.0|                       0.0|      120040|   AC|                 0|         null|                null|                     null|           null|                  null|                      null|05/03/2021|\n",
       "|               202101|      334189| 14/09/2005|                 null|              NAO|               74.0|                    1|   19/02/1998|      M|        null|         null|                  null|             01/04/2004|    01/04/2004|                    1.0|                 0.0|                       0.0|      120040|   AC|                 0|         null|                null|                     null|           null|                  null|                      null|05/03/2021|\n",
       "|               202101|      403997| 15/08/2007|                 11.0|              NAO|               74.0|                    1|   26/06/1993|      M|4.28204993E8|         null|                  null|             26/06/2001|    26/06/2001|                    4.0|                 0.0|                       0.0|      120040|   AC|                 0|         null|                null|                     null|           null|                  null|                      null|05/03/2021|\n",
       "|               202101|      403997| 07/08/2010|                 11.0|              NAO|               74.0|                    1|   24/04/1985|      M|4.28204993E8|         null|                  null|             12/07/2010|    12/07/2010|                    3.0|                 0.0|                       0.0|      120040|   AC|                 0|         null|                null|                     null|           null|                  null|                      null|05/03/2021|\n",
       "|               202101|      403997| 08/04/2009|                 11.0|              NAO|               74.0|                    1|   20/05/1996|      F|4.28204993E8|         null|                  null|             10/03/2009|    10/03/2009|                   10.0|                 0.0|                       0.0|      120040|   AC|                 0|         null|                null|                     null|           null|                  null|                      null|05/03/2021|\n",
       "|               202101|      403997| 08/07/2010|                 11.0|              NAO|               74.0|                    1|   10/07/1990|      F|4.28204993E8|         null|                  null|             30/05/2000|    30/05/2000|                    4.0|                 0.0|                       0.0|      120040|   AC|                 0|         null|                null|                     null|           null|                  null|                      null|05/03/2021|\n",
       "|               202101|      403997| 10/04/2010|                 11.0|              NAO|               74.0|                    1|   27/07/1995|      M|4.28204993E8|         null|                  null|             01/03/2010|    01/03/2010|                    4.0|                 0.0|                       0.0|      120040|   AC|                 0|         null|                null|                     null|           null|                  null|                      null|05/03/2021|\n",
       "+---------------------+------------+-----------+---------------------+-----------------+-------------------+---------------------+-------------+-------+------------+-------------+----------------------+-----------------------+--------------+-----------------------+--------------------+--------------------------+------------+-----+------------------+-------------+--------------------+-------------------------+---------------+----------------------+--------------------------+----------+\n",
       "only showing top 20 rows"
      ]
     },
     "execution_count": 2,
     "metadata": {},
     "output_type": "execute_result"
    }
   ],
   "source": [
    "# Usado somente para processamento em cluster Hadoop\n",
    "# from pyspark import SparkContext\n",
    "# sc = SparkContext()\n",
    "\n",
    "spark = SparkSession.builder \\\n",
    "    .appName(\"Processador Planos de Saude\") \\\n",
    "    .config(\"spark.sql.repl.eagerEval.enabled\", True) \\\n",
    "    .getOrCreate()\n",
    "\n",
    "# da pra infeirr o schema ou fazer os casts\n",
    "dataset = spark.read.options(\n",
    "        delimiter=\",\", \n",
    "        header=\"True\", \n",
    "        encoding=\"ISO-8859-1\", \n",
    "        dateFormat=\"dd/MM/yyyy\",\n",
    "        inferSchema=\"True\"\n",
    "    ).csv(\"csv_exemplo.csv\") # 1 ou mais arquivos.. ideal ler todos, depende de particionamento e etc do hive tb\n",
    "\n",
    "dataset"
   ]
  },
  {
   "cell_type": "code",
   "execution_count": 3,
   "metadata": {
    "scrolled": true
   },
   "outputs": [
    {
     "data": {
      "text/plain": [
       "['#ID_TEMPO_COMPETENCIA',\n",
       " 'CD_OPERADORA',\n",
       " 'DT_INCLUSAO',\n",
       " 'CD_BENE_MOTV_INCLUSAO',\n",
       " 'IND_PORTABILIDADE',\n",
       " 'ID_MOTIVO_MOVIMENTO',\n",
       " 'LG_BENEFICIARIO_ATIVO',\n",
       " 'DT_NASCIMENTO',\n",
       " 'TP_SEXO',\n",
       " 'CD_PLANO_RPS',\n",
       " 'CD_PLANO_SCPA',\n",
       " 'NR_PLANO_PORTABILIDADE',\n",
       " 'DT_PRIMEIRA_CONTRATACAO',\n",
       " 'DT_CONTRATACAO',\n",
       " 'ID_BENE_TIPO_DEPENDENTE',\n",
       " 'LG_COBERTURA_PARCIAL',\n",
       " 'LG_ITEM_EXCLUIDO_COBERTURA',\n",
       " 'CD_MUNICIPIO',\n",
       " 'SG_UF',\n",
       " 'LG_RESIDE_EXTERIOR',\n",
       " 'DT_REATIVACAO',\n",
       " 'DT_ULTIMA_REATIVACAO',\n",
       " 'DT_ULTIMA_MUDA_CONTRATUAL',\n",
       " 'DT_CANCELAMENTO',\n",
       " 'DT_ULTIMO_CANCELAMENTO',\n",
       " 'CD_BENE_MOTIV_CANCELAMENTO',\n",
       " 'DT_CARGA']"
      ]
     },
     "execution_count": 3,
     "metadata": {},
     "output_type": "execute_result"
    }
   ],
   "source": [
    "dataset.schema.names"
   ]
  },
  {
   "cell_type": "code",
   "execution_count": 4,
   "metadata": {
    "scrolled": true
   },
   "outputs": [],
   "source": [
    "unnecessary_columns = [column for column in dataset.schema.names if column not in [\"TP_SEXO\", \"DT_NASCIMENTO\", \"SG_UF\"]]\n",
    "\n",
    "clean_dataset = dataset.drop(*tuple(unnecessary_columns))"
   ]
  },
  {
   "cell_type": "code",
   "execution_count": 5,
   "metadata": {},
   "outputs": [
    {
     "data": {
      "text/html": [
       "<table border='1'>\n",
       "<tr><th>DT_NASCIMENTO</th><th>TP_SEXO</th><th>SG_UF</th><th>IDADE</th></tr>\n",
       "<tr><td>2006-06-13</td><td>F</td><td>AC</td><td>14</td></tr>\n",
       "<tr><td>1957-07-08</td><td>M</td><td>AC</td><td>63</td></tr>\n",
       "<tr><td>1953-05-12</td><td>F</td><td>AC</td><td>67</td></tr>\n",
       "<tr><td>1956-06-03</td><td>M</td><td>AC</td><td>64</td></tr>\n",
       "<tr><td>1956-12-16</td><td>M</td><td>AC</td><td>64</td></tr>\n",
       "<tr><td>1995-07-17</td><td>M</td><td>AC</td><td>25</td></tr>\n",
       "<tr><td>1973-11-06</td><td>F</td><td>AC</td><td>47</td></tr>\n",
       "<tr><td>1973-12-28</td><td>F</td><td>AC</td><td>47</td></tr>\n",
       "<tr><td>1976-09-15</td><td>F</td><td>AC</td><td>44</td></tr>\n",
       "<tr><td>1995-08-07</td><td>M</td><td>AC</td><td>25</td></tr>\n",
       "<tr><td>1976-09-26</td><td>F</td><td>AC</td><td>44</td></tr>\n",
       "<tr><td>1989-12-18</td><td>M</td><td>AC</td><td>31</td></tr>\n",
       "<tr><td>1998-01-15</td><td>M</td><td>AC</td><td>23</td></tr>\n",
       "<tr><td>1994-07-30</td><td>M</td><td>AC</td><td>26</td></tr>\n",
       "<tr><td>1998-02-19</td><td>M</td><td>AC</td><td>23</td></tr>\n",
       "<tr><td>1993-06-26</td><td>M</td><td>AC</td><td>27</td></tr>\n",
       "<tr><td>1985-04-24</td><td>M</td><td>AC</td><td>35</td></tr>\n",
       "<tr><td>1996-05-20</td><td>F</td><td>AC</td><td>24</td></tr>\n",
       "<tr><td>1990-07-10</td><td>F</td><td>AC</td><td>30</td></tr>\n",
       "<tr><td>1995-07-27</td><td>M</td><td>AC</td><td>25</td></tr>\n",
       "</table>\n",
       "only showing top 20 rows\n"
      ],
      "text/plain": [
       "+-------------+-------+-----+-----+\n",
       "|DT_NASCIMENTO|TP_SEXO|SG_UF|IDADE|\n",
       "+-------------+-------+-----+-----+\n",
       "|   2006-06-13|      F|   AC|   14|\n",
       "|   1957-07-08|      M|   AC|   63|\n",
       "|   1953-05-12|      F|   AC|   67|\n",
       "|   1956-06-03|      M|   AC|   64|\n",
       "|   1956-12-16|      M|   AC|   64|\n",
       "|   1995-07-17|      M|   AC|   25|\n",
       "|   1973-11-06|      F|   AC|   47|\n",
       "|   1973-12-28|      F|   AC|   47|\n",
       "|   1976-09-15|      F|   AC|   44|\n",
       "|   1995-08-07|      M|   AC|   25|\n",
       "|   1976-09-26|      F|   AC|   44|\n",
       "|   1989-12-18|      M|   AC|   31|\n",
       "|   1998-01-15|      M|   AC|   23|\n",
       "|   1994-07-30|      M|   AC|   26|\n",
       "|   1998-02-19|      M|   AC|   23|\n",
       "|   1993-06-26|      M|   AC|   27|\n",
       "|   1985-04-24|      M|   AC|   35|\n",
       "|   1996-05-20|      F|   AC|   24|\n",
       "|   1990-07-10|      F|   AC|   30|\n",
       "|   1995-07-27|      M|   AC|   25|\n",
       "+-------------+-------+-----+-----+\n",
       "only showing top 20 rows"
      ]
     },
     "execution_count": 5,
     "metadata": {},
     "output_type": "execute_result"
    }
   ],
   "source": [
    "clean_dataset = clean_dataset.withColumn(\"DT_NASCIMENTO\", sqlfuncs.to_date(sqlfuncs.col(\"DT_NASCIMENTO\"), \"dd/MM/yyyy\"))\n",
    "clean_dataset = clean_dataset.withColumn(\"IDADE\", sqlfuncs.floor(sqlfuncs.datediff(sqlfuncs.current_date(), sqlfuncs.to_date(sqlfuncs.col(\"DT_NASCIMENTO\"), \"dd/MM/yyyy\"))/365.25))\n",
    "clean_dataset"
   ]
  },
  {
   "cell_type": "code",
   "execution_count": 6,
   "metadata": {},
   "outputs": [
    {
     "data": {
      "text/html": [
       "<table border='1'>\n",
       "<tr><th>TP_SEXO</th><th>SG_UF</th><th>ATE_18</th><th>ATE_45</th><th>ATE_60</th><th>ATE_80</th><th>MAIOR_80</th></tr>\n",
       "<tr><td>F</td><td>AC</td><td>1</td><td>1</td><td>1</td><td>1</td><td>0</td></tr>\n",
       "<tr><td>M</td><td>AC</td><td>0</td><td>0</td><td>0</td><td>1</td><td>0</td></tr>\n",
       "<tr><td>F</td><td>AC</td><td>0</td><td>0</td><td>0</td><td>1</td><td>0</td></tr>\n",
       "<tr><td>M</td><td>AC</td><td>0</td><td>0</td><td>0</td><td>1</td><td>0</td></tr>\n",
       "<tr><td>M</td><td>AC</td><td>0</td><td>0</td><td>0</td><td>1</td><td>0</td></tr>\n",
       "<tr><td>M</td><td>AC</td><td>0</td><td>1</td><td>1</td><td>1</td><td>0</td></tr>\n",
       "<tr><td>F</td><td>AC</td><td>0</td><td>0</td><td>1</td><td>1</td><td>0</td></tr>\n",
       "<tr><td>F</td><td>AC</td><td>0</td><td>0</td><td>1</td><td>1</td><td>0</td></tr>\n",
       "<tr><td>F</td><td>AC</td><td>0</td><td>1</td><td>1</td><td>1</td><td>0</td></tr>\n",
       "<tr><td>M</td><td>AC</td><td>0</td><td>1</td><td>1</td><td>1</td><td>0</td></tr>\n",
       "<tr><td>F</td><td>AC</td><td>0</td><td>1</td><td>1</td><td>1</td><td>0</td></tr>\n",
       "<tr><td>M</td><td>AC</td><td>0</td><td>1</td><td>1</td><td>1</td><td>0</td></tr>\n",
       "<tr><td>M</td><td>AC</td><td>0</td><td>1</td><td>1</td><td>1</td><td>0</td></tr>\n",
       "<tr><td>M</td><td>AC</td><td>0</td><td>1</td><td>1</td><td>1</td><td>0</td></tr>\n",
       "<tr><td>M</td><td>AC</td><td>0</td><td>1</td><td>1</td><td>1</td><td>0</td></tr>\n",
       "<tr><td>M</td><td>AC</td><td>0</td><td>1</td><td>1</td><td>1</td><td>0</td></tr>\n",
       "<tr><td>M</td><td>AC</td><td>0</td><td>1</td><td>1</td><td>1</td><td>0</td></tr>\n",
       "<tr><td>F</td><td>AC</td><td>0</td><td>1</td><td>1</td><td>1</td><td>0</td></tr>\n",
       "<tr><td>F</td><td>AC</td><td>0</td><td>1</td><td>1</td><td>1</td><td>0</td></tr>\n",
       "<tr><td>M</td><td>AC</td><td>0</td><td>1</td><td>1</td><td>1</td><td>0</td></tr>\n",
       "</table>\n",
       "only showing top 20 rows\n"
      ],
      "text/plain": [
       "+-------+-----+------+------+------+------+--------+\n",
       "|TP_SEXO|SG_UF|ATE_18|ATE_45|ATE_60|ATE_80|MAIOR_80|\n",
       "+-------+-----+------+------+------+------+--------+\n",
       "|      F|   AC|     1|     1|     1|     1|       0|\n",
       "|      M|   AC|     0|     0|     0|     1|       0|\n",
       "|      F|   AC|     0|     0|     0|     1|       0|\n",
       "|      M|   AC|     0|     0|     0|     1|       0|\n",
       "|      M|   AC|     0|     0|     0|     1|       0|\n",
       "|      M|   AC|     0|     1|     1|     1|       0|\n",
       "|      F|   AC|     0|     0|     1|     1|       0|\n",
       "|      F|   AC|     0|     0|     1|     1|       0|\n",
       "|      F|   AC|     0|     1|     1|     1|       0|\n",
       "|      M|   AC|     0|     1|     1|     1|       0|\n",
       "|      F|   AC|     0|     1|     1|     1|       0|\n",
       "|      M|   AC|     0|     1|     1|     1|       0|\n",
       "|      M|   AC|     0|     1|     1|     1|       0|\n",
       "|      M|   AC|     0|     1|     1|     1|       0|\n",
       "|      M|   AC|     0|     1|     1|     1|       0|\n",
       "|      M|   AC|     0|     1|     1|     1|       0|\n",
       "|      M|   AC|     0|     1|     1|     1|       0|\n",
       "|      F|   AC|     0|     1|     1|     1|       0|\n",
       "|      F|   AC|     0|     1|     1|     1|       0|\n",
       "|      M|   AC|     0|     1|     1|     1|       0|\n",
       "+-------+-----+------+------+------+------+--------+\n",
       "only showing top 20 rows"
      ]
     },
     "execution_count": 6,
     "metadata": {},
     "output_type": "execute_result"
    }
   ],
   "source": [
    "clean_dataset = clean_dataset.drop(\"DT_NASCIMENTO\")\n",
    "clean_dataset = clean_dataset.withColumn(\"ATE_18\", \n",
    "                         sqlfuncs.when(sqlfuncs.col(\"IDADE\") <= sqlfuncs.lit(18), sqlfuncs.lit(1))\n",
    "                         .otherwise(sqlfuncs.lit(0))\n",
    "                        ) \\\n",
    "              .withColumn(\"ATE_45\", \n",
    "                         sqlfuncs.when(sqlfuncs.col(\"IDADE\") <= sqlfuncs.lit(45), sqlfuncs.lit(1))\n",
    "                         .otherwise(sqlfuncs.lit(0))\n",
    "                        ) \\\n",
    "              .withColumn(\"ATE_60\", \n",
    "                         sqlfuncs.when(sqlfuncs.col(\"IDADE\") <= sqlfuncs.lit(60), sqlfuncs.lit(1))\n",
    "                         .otherwise(sqlfuncs.lit(0))\n",
    "                        ) \\\n",
    "              .withColumn(\"ATE_80\", \n",
    "                         sqlfuncs.when(sqlfuncs.col(\"IDADE\") <= sqlfuncs.lit(80), sqlfuncs.lit(1))\n",
    "                         .otherwise(sqlfuncs.lit(0))\n",
    "                        ) \\\n",
    "              .withColumn(\"MAIOR_80\", \n",
    "                         sqlfuncs.when(sqlfuncs.col(\"IDADE\") > sqlfuncs.lit(80), sqlfuncs.lit(1))\n",
    "                         .otherwise(sqlfuncs.lit(0))\n",
    "                        )\n",
    "clean_dataset = clean_dataset.drop(\"IDADE\")\n",
    "clean_dataset"
   ]
  },
  {
   "cell_type": "code",
   "execution_count": 7,
   "metadata": {
    "scrolled": true
   },
   "outputs": [
    {
     "data": {
      "text/html": [
       "<table border='1'>\n",
       "<tr><th>TP_SEXO</th><th>ATE_18</th><th>ATE_45</th><th>ATE_60</th><th>ATE_80</th><th>MAIOR_80</th><th>REGIAO</th></tr>\n",
       "<tr><td>F</td><td>1</td><td>1</td><td>1</td><td>1</td><td>0</td><td>Norte</td></tr>\n",
       "<tr><td>M</td><td>0</td><td>0</td><td>0</td><td>1</td><td>0</td><td>Norte</td></tr>\n",
       "<tr><td>F</td><td>0</td><td>0</td><td>0</td><td>1</td><td>0</td><td>Norte</td></tr>\n",
       "<tr><td>M</td><td>0</td><td>0</td><td>0</td><td>1</td><td>0</td><td>Norte</td></tr>\n",
       "<tr><td>M</td><td>0</td><td>0</td><td>0</td><td>1</td><td>0</td><td>Norte</td></tr>\n",
       "<tr><td>M</td><td>0</td><td>1</td><td>1</td><td>1</td><td>0</td><td>Norte</td></tr>\n",
       "<tr><td>F</td><td>0</td><td>0</td><td>1</td><td>1</td><td>0</td><td>Norte</td></tr>\n",
       "<tr><td>F</td><td>0</td><td>0</td><td>1</td><td>1</td><td>0</td><td>Norte</td></tr>\n",
       "<tr><td>F</td><td>0</td><td>1</td><td>1</td><td>1</td><td>0</td><td>Norte</td></tr>\n",
       "<tr><td>M</td><td>0</td><td>1</td><td>1</td><td>1</td><td>0</td><td>Norte</td></tr>\n",
       "<tr><td>F</td><td>0</td><td>1</td><td>1</td><td>1</td><td>0</td><td>Norte</td></tr>\n",
       "<tr><td>M</td><td>0</td><td>1</td><td>1</td><td>1</td><td>0</td><td>Norte</td></tr>\n",
       "<tr><td>M</td><td>0</td><td>1</td><td>1</td><td>1</td><td>0</td><td>Norte</td></tr>\n",
       "<tr><td>M</td><td>0</td><td>1</td><td>1</td><td>1</td><td>0</td><td>Norte</td></tr>\n",
       "<tr><td>M</td><td>0</td><td>1</td><td>1</td><td>1</td><td>0</td><td>Norte</td></tr>\n",
       "<tr><td>M</td><td>0</td><td>1</td><td>1</td><td>1</td><td>0</td><td>Norte</td></tr>\n",
       "<tr><td>M</td><td>0</td><td>1</td><td>1</td><td>1</td><td>0</td><td>Norte</td></tr>\n",
       "<tr><td>F</td><td>0</td><td>1</td><td>1</td><td>1</td><td>0</td><td>Norte</td></tr>\n",
       "<tr><td>F</td><td>0</td><td>1</td><td>1</td><td>1</td><td>0</td><td>Norte</td></tr>\n",
       "<tr><td>M</td><td>0</td><td>1</td><td>1</td><td>1</td><td>0</td><td>Norte</td></tr>\n",
       "</table>\n",
       "only showing top 20 rows\n"
      ],
      "text/plain": [
       "+-------+------+------+------+------+--------+------+\n",
       "|TP_SEXO|ATE_18|ATE_45|ATE_60|ATE_80|MAIOR_80|REGIAO|\n",
       "+-------+------+------+------+------+--------+------+\n",
       "|      F|     1|     1|     1|     1|       0| Norte|\n",
       "|      M|     0|     0|     0|     1|       0| Norte|\n",
       "|      F|     0|     0|     0|     1|       0| Norte|\n",
       "|      M|     0|     0|     0|     1|       0| Norte|\n",
       "|      M|     0|     0|     0|     1|       0| Norte|\n",
       "|      M|     0|     1|     1|     1|       0| Norte|\n",
       "|      F|     0|     0|     1|     1|       0| Norte|\n",
       "|      F|     0|     0|     1|     1|       0| Norte|\n",
       "|      F|     0|     1|     1|     1|       0| Norte|\n",
       "|      M|     0|     1|     1|     1|       0| Norte|\n",
       "|      F|     0|     1|     1|     1|       0| Norte|\n",
       "|      M|     0|     1|     1|     1|       0| Norte|\n",
       "|      M|     0|     1|     1|     1|       0| Norte|\n",
       "|      M|     0|     1|     1|     1|       0| Norte|\n",
       "|      M|     0|     1|     1|     1|       0| Norte|\n",
       "|      M|     0|     1|     1|     1|       0| Norte|\n",
       "|      M|     0|     1|     1|     1|       0| Norte|\n",
       "|      F|     0|     1|     1|     1|       0| Norte|\n",
       "|      F|     0|     1|     1|     1|       0| Norte|\n",
       "|      M|     0|     1|     1|     1|       0| Norte|\n",
       "+-------+------+------+------+------+--------+------+\n",
       "only showing top 20 rows"
      ]
     },
     "execution_count": 7,
     "metadata": {},
     "output_type": "execute_result"
    }
   ],
   "source": [
    "map_uf_regions = {\n",
    "    \"AC\": \"Norte\",\n",
    "    \"AL\": \"Nordeste\",\n",
    "    \"AP\": \"Norte\",\n",
    "    \"AM\": \"Norte\",\n",
    "    \"BA\": \"Nordeste\",\n",
    "    \"CE\": \"Nordeste\",\n",
    "    \"DF\": \"Centro-Oeste\",\n",
    "    \"ES\": \"Sudeste\",\n",
    "    \"GO\": \"Centro-Oeste\",\n",
    "    \"MA\": \"Nordeste\",\n",
    "    \"MT\": \"Centro-Oeste\",\n",
    "    \"MS\": \"Centro-Oeste\",\n",
    "    \"MG\": \"Sudeste\",\n",
    "    \"PA\": \"Norte\",\n",
    "    \"PB\": \"Nordeste\",\n",
    "    \"PR\": \"Sul\",\n",
    "    \"PE\": \"Nordeste\",\n",
    "    \"PI\": \"Nordeste\",\n",
    "    \"RJ\": \"Sudeste\",\n",
    "    \"RN\": \"Nordeste\",\n",
    "    \"RS\": \"Sul\",\n",
    "    \"RO\": \"Norte\",\n",
    "    \"RR\": \"Norte\",\n",
    "    \"SC\": \"Sul\",\n",
    "    \"SP\": \"Sudeste\",\n",
    "    \"SE\": \"Nordeste\",\n",
    "    \"TO\": \"Norte\"\n",
    "}\n",
    "\n",
    "mapping = sqlfuncs.create_map([sqlfuncs.lit(x) for x in chain(*map_uf_regions.items())])\n",
    "\n",
    "\n",
    "clean_dataset = clean_dataset.withColumn(\"REGIAO\", mapping[clean_dataset['SG_UF']])\n",
    "clean_dataset = clean_dataset.drop(\"SG_UF\")\n",
    "clean_dataset"
   ]
  },
  {
   "cell_type": "code",
   "execution_count": 9,
   "metadata": {},
   "outputs": [
    {
     "data": {
      "text/html": [
       "<table border='1'>\n",
       "<tr><th>TP_SEXO</th><th>REGIAO</th><th>ATE_18</th><th>ATE_45</th><th>ATE_60</th><th>ATE_80</th><th>MAIOR_80</th></tr>\n",
       "<tr><td>F</td><td>Centro-Oeste</td><td>4894</td><td>19604</td><td>31076</td><td>41392</td><td>1753</td></tr>\n",
       "<tr><td>M</td><td>Centro-Oeste</td><td>5131</td><td>17642</td><td>26881</td><td>35735</td><td>1115</td></tr>\n",
       "<tr><td>M</td><td>Nordeste</td><td>10383</td><td>42130</td><td>60069</td><td>75873</td><td>2260</td></tr>\n",
       "<tr><td>F</td><td>Nordeste</td><td>10007</td><td>47895</td><td>74471</td><td>97233</td><td>4624</td></tr>\n",
       "<tr><td>F</td><td>Norte</td><td>10706</td><td>41106</td><td>59363</td><td>74358</td><td>3011</td></tr>\n",
       "<tr><td>M</td><td>Norte</td><td>11193</td><td>36789</td><td>50430</td><td>61058</td><td>1563</td></tr>\n",
       "<tr><td>F</td><td>Sudeste</td><td>3593</td><td>16813</td><td>27647</td><td>40130</td><td>3354</td></tr>\n",
       "<tr><td>M</td><td>Sudeste</td><td>3693</td><td>15996</td><td>24571</td><td>34556</td><td>1911</td></tr>\n",
       "<tr><td>F</td><td>Sul</td><td>2644</td><td>12515</td><td>20604</td><td>29875</td><td>2037</td></tr>\n",
       "<tr><td>M</td><td>Sul</td><td>2731</td><td>11869</td><td>19084</td><td>26786</td><td>1299</td></tr>\n",
       "</table>\n"
      ],
      "text/plain": [
       "+-------+------------+------+------+------+------+--------+\n",
       "|TP_SEXO|      REGIAO|ATE_18|ATE_45|ATE_60|ATE_80|MAIOR_80|\n",
       "+-------+------------+------+------+------+------+--------+\n",
       "|      F|Centro-Oeste|  4894| 19604| 31076| 41392|    1753|\n",
       "|      M|Centro-Oeste|  5131| 17642| 26881| 35735|    1115|\n",
       "|      M|    Nordeste| 10383| 42130| 60069| 75873|    2260|\n",
       "|      F|    Nordeste| 10007| 47895| 74471| 97233|    4624|\n",
       "|      F|       Norte| 10706| 41106| 59363| 74358|    3011|\n",
       "|      M|       Norte| 11193| 36789| 50430| 61058|    1563|\n",
       "|      F|     Sudeste|  3593| 16813| 27647| 40130|    3354|\n",
       "|      M|     Sudeste|  3693| 15996| 24571| 34556|    1911|\n",
       "|      F|         Sul|  2644| 12515| 20604| 29875|    2037|\n",
       "|      M|         Sul|  2731| 11869| 19084| 26786|    1299|\n",
       "+-------+------------+------+------+------+------+--------+"
      ]
     },
     "execution_count": 9,
     "metadata": {},
     "output_type": "execute_result"
    }
   ],
   "source": [
    "processed_data = clean_dataset.groupby(\"TP_SEXO\", \"REGIAO\").agg(\n",
    "    sqlfuncs.sum(\"ATE_18\").alias(\"ATE_18\"),\n",
    "    sqlfuncs.sum(\"ATE_45\").alias(\"ATE_45\"),\n",
    "    sqlfuncs.sum(\"ATE_60\").alias(\"ATE_60\"),\n",
    "    sqlfuncs.sum(\"ATE_80\").alias(\"ATE_80\"),\n",
    "    sqlfuncs.sum(\"MAIOR_80\").alias(\"MAIOR_80\")\n",
    ").orderBy(\"REGIAO\")\n",
    "\n",
    "processed_data"
   ]
  },
  {
   "cell_type": "code",
   "execution_count": 14,
   "metadata": {},
   "outputs": [],
   "source": [
    "#processed_data.write.csv(\"../processed_example.csv\")\n",
    "processed_data.toPandas().to_csv(\"processed_example.csv\")"
   ]
  }
 ],
 "metadata": {
  "kernelspec": {
   "display_name": "Python 3",
   "language": "python",
   "name": "python3"
  },
  "language_info": {
   "codemirror_mode": {
    "name": "ipython",
    "version": 3
   },
   "file_extension": ".py",
   "mimetype": "text/x-python",
   "name": "python",
   "nbconvert_exporter": "python",
   "pygments_lexer": "ipython3",
   "version": "3.8.5"
  }
 },
 "nbformat": 4,
 "nbformat_minor": 4
}
