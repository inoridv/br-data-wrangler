{
 "cells": [
  {
   "cell_type": "code",
   "execution_count": 1,
   "metadata": {},
   "outputs": [],
   "source": [
    "from pyspark.sql import SparkSession\n",
    "import pyspark.sql.functions as sqlfuncs"
   ]
  },
  {
   "cell_type": "code",
   "execution_count": 2,
   "metadata": {},
   "outputs": [
    {
     "data": {
      "text/html": [
       "<table border='1'>\n",
       "<tr><th>#ID_TEMPO_COMPETENCIA</th><th>CD_OPERADORA</th><th>DT_INCLUSAO</th><th>CD_BENE_MOTV_INCLUSAO</th><th>IND_PORTABILIDADE</th><th>ID_MOTIVO_MOVIMENTO</th><th>LG_BENEFICIARIO_ATIVO</th><th>DT_NASCIMENTO</th><th>TP_SEXO</th><th>CD_PLANO_RPS</th><th>CD_PLANO_SCPA</th><th>NR_PLANO_PORTABILIDADE</th><th>DT_PRIMEIRA_CONTRATACAO</th><th>DT_CONTRATACAO</th><th>ID_BENE_TIPO_DEPENDENTE</th><th>LG_COBERTURA_PARCIAL</th><th>LG_ITEM_EXCLUIDO_COBERTURA</th><th>CD_MUNICIPIO</th><th>SG_UF</th><th>LG_RESIDE_EXTERIOR</th><th>DT_REATIVACAO</th><th>DT_ULTIMA_REATIVACAO</th><th>DT_ULTIMA_MUDA_CONTRATUAL</th><th>DT_CANCELAMENTO</th><th>DT_ULTIMO_CANCELAMENTO</th><th>CD_BENE_MOTIV_CANCELAMENTO</th><th>DT_CARGA</th></tr>\n",
       "<tr><td>202101</td><td>358169</td><td>16/12/2007</td><td>11</td><td>NAO</td><td>31</td><td>1</td><td>13/06/2006</td><td>F</td><td>463663115</td><td>null</td><td>null</td><td>28/06/2006</td><td>14/07/2020</td><td>1</td><td>0</td><td>0</td><td>120040</td><td>AC</td><td>0</td><td>null</td><td>null</td><td>12/08/2020</td><td>null</td><td>null</td><td>null</td><td>05/03/2021</td></tr>\n",
       "<tr><td>202101</td><td>334189</td><td>14/09/2005</td><td>null</td><td>NAO</td><td>74</td><td>1</td><td>08/07/1957</td><td>M</td><td>null</td><td>null</td><td>null</td><td>01/04/2004</td><td>01/04/2004</td><td>1</td><td>0</td><td>0</td><td>120040</td><td>AC</td><td>0</td><td>null</td><td>null</td><td>null</td><td>null</td><td>null</td><td>null</td><td>05/03/2021</td></tr>\n",
       "<tr><td>202101</td><td>316849</td><td>17/01/2000</td><td>null</td><td>NAO</td><td>74</td><td>1</td><td>12/05/1953</td><td>F</td><td>null</td><td>null</td><td>null</td><td>14/10/1977</td><td>14/10/1977</td><td>null</td><td>null</td><td>null</td><td>120040</td><td>AC</td><td>0</td><td>null</td><td>null</td><td>null</td><td>null</td><td>null</td><td>null</td><td>05/03/2021</td></tr>\n",
       "<tr><td>202101</td><td>334189</td><td>11/03/2008</td><td>11</td><td>NAO</td><td>null</td><td>1</td><td>03/06/1956</td><td>M</td><td>null</td><td>null</td><td>null</td><td>01/02/2008</td><td>01/02/2008</td><td>1</td><td>0</td><td>0</td><td>120040</td><td>AC</td><td>0</td><td>null</td><td>null</td><td>null</td><td>null</td><td>null</td><td>null</td><td>05/03/2021</td></tr>\n",
       "<tr><td>202101</td><td>334189</td><td>14/09/2005</td><td>null</td><td>NAO</td><td>74</td><td>1</td><td>16/12/1956</td><td>M</td><td>null</td><td>null</td><td>null</td><td>01/04/2004</td><td>01/04/2004</td><td>1</td><td>0</td><td>0</td><td>120040</td><td>AC</td><td>0</td><td>null</td><td>null</td><td>null</td><td>null</td><td>null</td><td>null</td><td>05/03/2021</td></tr>\n",
       "<tr><td>202101</td><td>403997</td><td>08/09/2010</td><td>11</td><td>NAO</td><td>74</td><td>1</td><td>17/07/1995</td><td>M</td><td>428204993</td><td>null</td><td>null</td><td>13/08/2010</td><td>13/08/2010</td><td>10</td><td>0</td><td>0</td><td>120040</td><td>AC</td><td>0</td><td>null</td><td>null</td><td>null</td><td>null</td><td>null</td><td>null</td><td>05/03/2021</td></tr>\n",
       "<tr><td>202101</td><td>403997</td><td>07/08/2010</td><td>11</td><td>NAO</td><td>21</td><td>1</td><td>06/11/1973</td><td>F</td><td>428204993</td><td>null</td><td>null</td><td>27/11/2000</td><td>27/11/2000</td><td>3</td><td>0</td><td>0</td><td>120040</td><td>AC</td><td>0</td><td>null</td><td>null</td><td>null</td><td>null</td><td>null</td><td>null</td><td>05/03/2021</td></tr>\n",
       "<tr><td>202101</td><td>403997</td><td>15/11/2007</td><td>11</td><td>NAO</td><td>74</td><td>1</td><td>28/12/1973</td><td>F</td><td>428204993</td><td>null</td><td>null</td><td>04/10/2007</td><td>04/10/2007</td><td>4</td><td>0</td><td>0</td><td>120040</td><td>AC</td><td>0</td><td>null</td><td>null</td><td>null</td><td>null</td><td>null</td><td>null</td><td>05/03/2021</td></tr>\n",
       "<tr><td>202101</td><td>403997</td><td>08/05/2002</td><td>null</td><td>NAO</td><td>22</td><td>1</td><td>15/09/1976</td><td>F</td><td>428204993</td><td>null</td><td>null</td><td>25/10/2000</td><td>25/10/2000</td><td>1</td><td>0</td><td>0</td><td>120040</td><td>AC</td><td>0</td><td>null</td><td>null</td><td>null</td><td>null</td><td>null</td><td>null</td><td>05/03/2021</td></tr>\n",
       "<tr><td>202101</td><td>403997</td><td>15/08/2007</td><td>11</td><td>NAO</td><td>74</td><td>1</td><td>07/08/1995</td><td>M</td><td>428204993</td><td>null</td><td>null</td><td>29/06/2005</td><td>29/06/2005</td><td>4</td><td>0</td><td>0</td><td>120040</td><td>AC</td><td>0</td><td>null</td><td>null</td><td>null</td><td>null</td><td>null</td><td>null</td><td>05/03/2021</td></tr>\n",
       "<tr><td>202101</td><td>403997</td><td>31/05/2005</td><td>11</td><td>NAO</td><td>74</td><td>1</td><td>26/09/1976</td><td>F</td><td>428204993</td><td>null</td><td>null</td><td>29/04/2005</td><td>29/04/2005</td><td>10</td><td>0</td><td>0</td><td>120040</td><td>AC</td><td>0</td><td>null</td><td>null</td><td>null</td><td>null</td><td>null</td><td>null</td><td>05/03/2021</td></tr>\n",
       "<tr><td>202101</td><td>403997</td><td>04/06/2011</td><td>11</td><td>NAO</td><td>74</td><td>1</td><td>18/12/1989</td><td>M</td><td>428204993</td><td>null</td><td>null</td><td>12/05/2011</td><td>12/05/2011</td><td>10</td><td>0</td><td>0</td><td>120040</td><td>AC</td><td>0</td><td>null</td><td>null</td><td>null</td><td>null</td><td>null</td><td>null</td><td>05/03/2021</td></tr>\n",
       "<tr><td>202101</td><td>403997</td><td>15/08/2007</td><td>11</td><td>NAO</td><td>74</td><td>1</td><td>15/01/1998</td><td>M</td><td>463076109</td><td>null</td><td>null</td><td>12/07/2005</td><td>12/07/2005</td><td>4</td><td>0</td><td>0</td><td>120040</td><td>AC</td><td>0</td><td>null</td><td>null</td><td>null</td><td>null</td><td>null</td><td>null</td><td>05/03/2021</td></tr>\n",
       "<tr><td>202101</td><td>403997</td><td>15/08/2007</td><td>11</td><td>NAO</td><td>21</td><td>1</td><td>30/07/1994</td><td>M</td><td>428204993</td><td>null</td><td>null</td><td>30/12/2004</td><td>30/12/2004</td><td>4</td><td>0</td><td>0</td><td>120040</td><td>AC</td><td>0</td><td>null</td><td>null</td><td>null</td><td>null</td><td>null</td><td>null</td><td>05/03/2021</td></tr>\n",
       "<tr><td>202101</td><td>334189</td><td>14/09/2005</td><td>null</td><td>NAO</td><td>74</td><td>1</td><td>19/02/1998</td><td>M</td><td>null</td><td>null</td><td>null</td><td>01/04/2004</td><td>01/04/2004</td><td>1</td><td>0</td><td>0</td><td>120040</td><td>AC</td><td>0</td><td>null</td><td>null</td><td>null</td><td>null</td><td>null</td><td>null</td><td>05/03/2021</td></tr>\n",
       "<tr><td>202101</td><td>403997</td><td>15/08/2007</td><td>11</td><td>NAO</td><td>74</td><td>1</td><td>26/06/1993</td><td>M</td><td>428204993</td><td>null</td><td>null</td><td>26/06/2001</td><td>26/06/2001</td><td>4</td><td>0</td><td>0</td><td>120040</td><td>AC</td><td>0</td><td>null</td><td>null</td><td>null</td><td>null</td><td>null</td><td>null</td><td>05/03/2021</td></tr>\n",
       "<tr><td>202101</td><td>403997</td><td>07/08/2010</td><td>11</td><td>NAO</td><td>74</td><td>1</td><td>24/04/1985</td><td>M</td><td>428204993</td><td>null</td><td>null</td><td>12/07/2010</td><td>12/07/2010</td><td>3</td><td>0</td><td>0</td><td>120040</td><td>AC</td><td>0</td><td>null</td><td>null</td><td>null</td><td>null</td><td>null</td><td>null</td><td>05/03/2021</td></tr>\n",
       "<tr><td>202101</td><td>403997</td><td>08/04/2009</td><td>11</td><td>NAO</td><td>74</td><td>1</td><td>20/05/1996</td><td>F</td><td>428204993</td><td>null</td><td>null</td><td>10/03/2009</td><td>10/03/2009</td><td>10</td><td>0</td><td>0</td><td>120040</td><td>AC</td><td>0</td><td>null</td><td>null</td><td>null</td><td>null</td><td>null</td><td>null</td><td>05/03/2021</td></tr>\n",
       "<tr><td>202101</td><td>403997</td><td>08/07/2010</td><td>11</td><td>NAO</td><td>74</td><td>1</td><td>10/07/1990</td><td>F</td><td>428204993</td><td>null</td><td>null</td><td>30/05/2000</td><td>30/05/2000</td><td>4</td><td>0</td><td>0</td><td>120040</td><td>AC</td><td>0</td><td>null</td><td>null</td><td>null</td><td>null</td><td>null</td><td>null</td><td>05/03/2021</td></tr>\n",
       "<tr><td>202101</td><td>403997</td><td>10/04/2010</td><td>11</td><td>NAO</td><td>74</td><td>1</td><td>27/07/1995</td><td>M</td><td>428204993</td><td>null</td><td>null</td><td>01/03/2010</td><td>01/03/2010</td><td>4</td><td>0</td><td>0</td><td>120040</td><td>AC</td><td>0</td><td>null</td><td>null</td><td>null</td><td>null</td><td>null</td><td>null</td><td>05/03/2021</td></tr>\n",
       "</table>\n",
       "only showing top 20 rows\n"
      ],
      "text/plain": [
       "+---------------------+------------+-----------+---------------------+-----------------+-------------------+---------------------+-------------+-------+------------+-------------+----------------------+-----------------------+--------------+-----------------------+--------------------+--------------------------+------------+-----+------------------+-------------+--------------------+-------------------------+---------------+----------------------+--------------------------+----------+\n",
       "|#ID_TEMPO_COMPETENCIA|CD_OPERADORA|DT_INCLUSAO|CD_BENE_MOTV_INCLUSAO|IND_PORTABILIDADE|ID_MOTIVO_MOVIMENTO|LG_BENEFICIARIO_ATIVO|DT_NASCIMENTO|TP_SEXO|CD_PLANO_RPS|CD_PLANO_SCPA|NR_PLANO_PORTABILIDADE|DT_PRIMEIRA_CONTRATACAO|DT_CONTRATACAO|ID_BENE_TIPO_DEPENDENTE|LG_COBERTURA_PARCIAL|LG_ITEM_EXCLUIDO_COBERTURA|CD_MUNICIPIO|SG_UF|LG_RESIDE_EXTERIOR|DT_REATIVACAO|DT_ULTIMA_REATIVACAO|DT_ULTIMA_MUDA_CONTRATUAL|DT_CANCELAMENTO|DT_ULTIMO_CANCELAMENTO|CD_BENE_MOTIV_CANCELAMENTO|  DT_CARGA|\n",
       "+---------------------+------------+-----------+---------------------+-----------------+-------------------+---------------------+-------------+-------+------------+-------------+----------------------+-----------------------+--------------+-----------------------+--------------------+--------------------------+------------+-----+------------------+-------------+--------------------+-------------------------+---------------+----------------------+--------------------------+----------+\n",
       "|               202101|      358169| 16/12/2007|                   11|              NAO|                 31|                    1|   13/06/2006|      F|   463663115|         null|                  null|             28/06/2006|    14/07/2020|                      1|                   0|                         0|      120040|   AC|                 0|         null|                null|               12/08/2020|           null|                  null|                      null|05/03/2021|\n",
       "|               202101|      334189| 14/09/2005|                 null|              NAO|                 74|                    1|   08/07/1957|      M|        null|         null|                  null|             01/04/2004|    01/04/2004|                      1|                   0|                         0|      120040|   AC|                 0|         null|                null|                     null|           null|                  null|                      null|05/03/2021|\n",
       "|               202101|      316849| 17/01/2000|                 null|              NAO|                 74|                    1|   12/05/1953|      F|        null|         null|                  null|             14/10/1977|    14/10/1977|                   null|                null|                      null|      120040|   AC|                 0|         null|                null|                     null|           null|                  null|                      null|05/03/2021|\n",
       "|               202101|      334189| 11/03/2008|                   11|              NAO|               null|                    1|   03/06/1956|      M|        null|         null|                  null|             01/02/2008|    01/02/2008|                      1|                   0|                         0|      120040|   AC|                 0|         null|                null|                     null|           null|                  null|                      null|05/03/2021|\n",
       "|               202101|      334189| 14/09/2005|                 null|              NAO|                 74|                    1|   16/12/1956|      M|        null|         null|                  null|             01/04/2004|    01/04/2004|                      1|                   0|                         0|      120040|   AC|                 0|         null|                null|                     null|           null|                  null|                      null|05/03/2021|\n",
       "|               202101|      403997| 08/09/2010|                   11|              NAO|                 74|                    1|   17/07/1995|      M|   428204993|         null|                  null|             13/08/2010|    13/08/2010|                     10|                   0|                         0|      120040|   AC|                 0|         null|                null|                     null|           null|                  null|                      null|05/03/2021|\n",
       "|               202101|      403997| 07/08/2010|                   11|              NAO|                 21|                    1|   06/11/1973|      F|   428204993|         null|                  null|             27/11/2000|    27/11/2000|                      3|                   0|                         0|      120040|   AC|                 0|         null|                null|                     null|           null|                  null|                      null|05/03/2021|\n",
       "|               202101|      403997| 15/11/2007|                   11|              NAO|                 74|                    1|   28/12/1973|      F|   428204993|         null|                  null|             04/10/2007|    04/10/2007|                      4|                   0|                         0|      120040|   AC|                 0|         null|                null|                     null|           null|                  null|                      null|05/03/2021|\n",
       "|               202101|      403997| 08/05/2002|                 null|              NAO|                 22|                    1|   15/09/1976|      F|   428204993|         null|                  null|             25/10/2000|    25/10/2000|                      1|                   0|                         0|      120040|   AC|                 0|         null|                null|                     null|           null|                  null|                      null|05/03/2021|\n",
       "|               202101|      403997| 15/08/2007|                   11|              NAO|                 74|                    1|   07/08/1995|      M|   428204993|         null|                  null|             29/06/2005|    29/06/2005|                      4|                   0|                         0|      120040|   AC|                 0|         null|                null|                     null|           null|                  null|                      null|05/03/2021|\n",
       "|               202101|      403997| 31/05/2005|                   11|              NAO|                 74|                    1|   26/09/1976|      F|   428204993|         null|                  null|             29/04/2005|    29/04/2005|                     10|                   0|                         0|      120040|   AC|                 0|         null|                null|                     null|           null|                  null|                      null|05/03/2021|\n",
       "|               202101|      403997| 04/06/2011|                   11|              NAO|                 74|                    1|   18/12/1989|      M|   428204993|         null|                  null|             12/05/2011|    12/05/2011|                     10|                   0|                         0|      120040|   AC|                 0|         null|                null|                     null|           null|                  null|                      null|05/03/2021|\n",
       "|               202101|      403997| 15/08/2007|                   11|              NAO|                 74|                    1|   15/01/1998|      M|   463076109|         null|                  null|             12/07/2005|    12/07/2005|                      4|                   0|                         0|      120040|   AC|                 0|         null|                null|                     null|           null|                  null|                      null|05/03/2021|\n",
       "|               202101|      403997| 15/08/2007|                   11|              NAO|                 21|                    1|   30/07/1994|      M|   428204993|         null|                  null|             30/12/2004|    30/12/2004|                      4|                   0|                         0|      120040|   AC|                 0|         null|                null|                     null|           null|                  null|                      null|05/03/2021|\n",
       "|               202101|      334189| 14/09/2005|                 null|              NAO|                 74|                    1|   19/02/1998|      M|        null|         null|                  null|             01/04/2004|    01/04/2004|                      1|                   0|                         0|      120040|   AC|                 0|         null|                null|                     null|           null|                  null|                      null|05/03/2021|\n",
       "|               202101|      403997| 15/08/2007|                   11|              NAO|                 74|                    1|   26/06/1993|      M|   428204993|         null|                  null|             26/06/2001|    26/06/2001|                      4|                   0|                         0|      120040|   AC|                 0|         null|                null|                     null|           null|                  null|                      null|05/03/2021|\n",
       "|               202101|      403997| 07/08/2010|                   11|              NAO|                 74|                    1|   24/04/1985|      M|   428204993|         null|                  null|             12/07/2010|    12/07/2010|                      3|                   0|                         0|      120040|   AC|                 0|         null|                null|                     null|           null|                  null|                      null|05/03/2021|\n",
       "|               202101|      403997| 08/04/2009|                   11|              NAO|                 74|                    1|   20/05/1996|      F|   428204993|         null|                  null|             10/03/2009|    10/03/2009|                     10|                   0|                         0|      120040|   AC|                 0|         null|                null|                     null|           null|                  null|                      null|05/03/2021|\n",
       "|               202101|      403997| 08/07/2010|                   11|              NAO|                 74|                    1|   10/07/1990|      F|   428204993|         null|                  null|             30/05/2000|    30/05/2000|                      4|                   0|                         0|      120040|   AC|                 0|         null|                null|                     null|           null|                  null|                      null|05/03/2021|\n",
       "|               202101|      403997| 10/04/2010|                   11|              NAO|                 74|                    1|   27/07/1995|      M|   428204993|         null|                  null|             01/03/2010|    01/03/2010|                      4|                   0|                         0|      120040|   AC|                 0|         null|                null|                     null|           null|                  null|                      null|05/03/2021|\n",
       "+---------------------+------------+-----------+---------------------+-----------------+-------------------+---------------------+-------------+-------+------------+-------------+----------------------+-----------------------+--------------+-----------------------+--------------------+--------------------------+------------+-----+------------------+-------------+--------------------+-------------------------+---------------+----------------------+--------------------------+----------+\n",
       "only showing top 20 rows"
      ]
     },
     "execution_count": 2,
     "metadata": {},
     "output_type": "execute_result"
    }
   ],
   "source": [
    "# Usado somente para processamento em cluster Hadoop\n",
    "# from pyspark import SparkContext\n",
    "# sc = SparkContext()\n",
    "\n",
    "spark = SparkSession.builder \\\n",
    "    .appName(\"Processador Planos de Saude\") \\\n",
    "    .config(\"spark.sql.repl.eagerEval.enabled\", True) \\\n",
    "    .getOrCreate()\n",
    "\n",
    "# da pra infeirr o schema ou fazer os casts\n",
    "dataset = spark.read.options(\n",
    "        delimiter=\";\", \n",
    "        header=\"True\", \n",
    "        encoding=\"ISO-8859-1\", \n",
    "        dateFormat=\"dd-MM-yyyy\",\n",
    "        inferSchema=\"True\"\n",
    "    ).csv(\"C:/Users/daviv/Downloads/sib_ativos/sib_202101_AC.csv\") # 1 ou mais arquivos.. ideal ler todos, depende de particionamento e etc do hive tb\n",
    "\n",
    "dataset"
   ]
  },
  {
   "cell_type": "code",
   "execution_count": 3,
   "metadata": {
    "scrolled": true
   },
   "outputs": [
    {
     "data": {
      "text/plain": [
       "['#ID_TEMPO_COMPETENCIA',\n",
       " 'CD_OPERADORA',\n",
       " 'DT_INCLUSAO',\n",
       " 'CD_BENE_MOTV_INCLUSAO',\n",
       " 'IND_PORTABILIDADE',\n",
       " 'ID_MOTIVO_MOVIMENTO',\n",
       " 'LG_BENEFICIARIO_ATIVO',\n",
       " 'DT_NASCIMENTO',\n",
       " 'TP_SEXO',\n",
       " 'CD_PLANO_RPS',\n",
       " 'CD_PLANO_SCPA',\n",
       " 'NR_PLANO_PORTABILIDADE',\n",
       " 'DT_PRIMEIRA_CONTRATACAO',\n",
       " 'DT_CONTRATACAO',\n",
       " 'ID_BENE_TIPO_DEPENDENTE',\n",
       " 'LG_COBERTURA_PARCIAL',\n",
       " 'LG_ITEM_EXCLUIDO_COBERTURA',\n",
       " 'CD_MUNICIPIO',\n",
       " 'SG_UF',\n",
       " 'LG_RESIDE_EXTERIOR',\n",
       " 'DT_REATIVACAO',\n",
       " 'DT_ULTIMA_REATIVACAO',\n",
       " 'DT_ULTIMA_MUDA_CONTRATUAL',\n",
       " 'DT_CANCELAMENTO',\n",
       " 'DT_ULTIMO_CANCELAMENTO',\n",
       " 'CD_BENE_MOTIV_CANCELAMENTO',\n",
       " 'DT_CARGA']"
      ]
     },
     "execution_count": 3,
     "metadata": {},
     "output_type": "execute_result"
    }
   ],
   "source": [
    "dataset.schema.names"
   ]
  },
  {
   "cell_type": "code",
   "execution_count": 10,
   "metadata": {
    "scrolled": true
   },
   "outputs": [
    {
     "name": "stdout",
     "output_type": "stream",
     "text": [
      "root\n",
      " |-- DT_NASCIMENTO: string (nullable = true)\n",
      " |-- TP_SEXO: string (nullable = true)\n",
      " |-- SG_UF: string (nullable = true)\n",
      "\n"
     ]
    }
   ],
   "source": [
    "unnecessary_columns = [column for column in dataset.schema.names if column not in [\"TP_SEXO\", \"DT_NASCIMENTO\", \"SG_UF\"]]\n",
    "\n",
    "dataset.drop(*tuple(unnecessary_columns)).printSchema()"
   ]
  },
  {
   "cell_type": "code",
   "execution_count": null,
   "metadata": {},
   "outputs": [],
   "source": []
  },
  {
   "cell_type": "code",
   "execution_count": null,
   "metadata": {},
   "outputs": [],
   "source": []
  }
 ],
 "metadata": {
  "kernelspec": {
   "display_name": "Python 3",
   "language": "python",
   "name": "python3"
  },
  "language_info": {
   "codemirror_mode": {
    "name": "ipython",
    "version": 3
   },
   "file_extension": ".py",
   "mimetype": "text/x-python",
   "name": "python",
   "nbconvert_exporter": "python",
   "pygments_lexer": "ipython3",
   "version": "3.8.5"
  }
 },
 "nbformat": 4,
 "nbformat_minor": 4
}
